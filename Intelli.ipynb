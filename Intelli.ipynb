{
 "cells": [
  {
   "cell_type": "markdown",
   "id": "54ce2e25",
   "metadata": {},
   "source": [
    "### Tzudir"
   ]
  },
  {
   "cell_type": "code",
   "execution_count": 6,
   "id": "2b27d4fd",
   "metadata": {},
   "outputs": [],
   "source": [
    "#imports\n",
    "import io\n",
    "import os\n",
    "import speech_recognition as sr"
   ]
  },
  {
   "cell_type": "code",
   "execution_count": 2,
   "id": "6552ef54",
   "metadata": {},
   "outputs": [],
   "source": [
    "# Function to transcribe audio from a file\n",
    "def transcribe_audio_from_file(audio_file_path):\n",
    "    recognizer = sr.Recognizer()\n",
    "\n",
    "    with sr.AudioFile(audio_file_path) as source:\n",
    "        audio_data = recognizer.record(source) \n",
    "\n",
    "    try:\n",
    "        text = recognizer.recognize_google(audio_data)\n",
    "        print(\"Transcription: \", text)\n",
    "    except sr.UnknownValueError:\n",
    "        print(\"Could not understand the audio\")\n",
    "    except sr.RequestError as e:\n",
    "        print(f\"Error with the request; {e}\")"
   ]
  },
  {
   "cell_type": "code",
   "execution_count": 3,
   "id": "67ba3eee",
   "metadata": {},
   "outputs": [],
   "source": [
    "# Function to transcribe audio from real-time input\n",
    "def transcribe_audio_real_time():\n",
    "    recognizer = sr.Recognizer()\n",
    "\n",
    "    with sr.Microphone() as source:\n",
    "        print(\"Say something...\")\n",
    "        audio_data = recognizer.listen(source, timeout=None)\n",
    "\n",
    "    try:\n",
    "        text = recognizer.recognize_google(audio_data)\n",
    "        print(\"Transcription: \", text)\n",
    "    except sr.UnknownValueError:\n",
    "        print(\"Could not understand the audio\")\n",
    "    except sr.RequestError as e:\n",
    "        print(f\"Error with the request; {e}\")"
   ]
  },
  {
   "cell_type": "code",
   "execution_count": 5,
   "id": "93a3fdca",
   "metadata": {},
   "outputs": [],
   "source": [
    "def main():\n",
    "    user_choice = input(\"Choose an option (1 for file, 2 for real-time): \")\n",
    "\n",
    "    if user_choice == \"1\":\n",
    "        file_path = input(\"Enter the path of the audio file: \")\n",
    "        if os.path.exists(file_path):\n",
    "            transcribe_audio_from_file(file_path)\n",
    "        else:\n",
    "            print(\"File not found.\")\n",
    "    elif user_choice == \"2\":\n",
    "        transcribe_audio_real_time()\n",
    "    else:\n",
    "        print(\"Invalid option.\")"
   ]
  },
  {
   "cell_type": "code",
   "execution_count": 7,
   "id": "49b758a9",
   "metadata": {},
   "outputs": [
    {
     "name": "stdout",
     "output_type": "stream",
     "text": [
      "Say something...\n",
      "Transcription:  hello hello where is the Apple\n"
     ]
    }
   ],
   "source": [
    "#real time audio\n",
    "if __name__ == \"__main__\":\n",
    "  main()"
   ]
  },
  {
   "cell_type": "code",
   "execution_count": 10,
   "id": "ff63b4f2",
   "metadata": {},
   "outputs": [
    {
     "name": "stdout",
     "output_type": "stream",
     "text": [
      "Say something...\n",
      "Transcription:  there are lots of fishes in the lake\n"
     ]
    }
   ],
   "source": [
    "#real time 2\n",
    "if __name__ == \"__main__\":\n",
    "  main()"
   ]
  },
  {
   "cell_type": "code",
   "execution_count": 13,
   "id": "80431c0e",
   "metadata": {},
   "outputs": [
    {
     "name": "stdout",
     "output_type": "stream",
     "text": [
      "Transcription:  the still smell of old buildings it takes heat to bring out the order I call dip restores health exist a sole please find with him Tales of pastor are my favourite is just for food is the hot cross bun\n"
     ]
    }
   ],
   "source": [
    "#file upload\n",
    "if __name__ == \"__main__\":\n",
    "  main()"
   ]
  },
  {
   "cell_type": "code",
   "execution_count": null,
   "id": "ae424efa",
   "metadata": {},
   "outputs": [],
   "source": []
  }
 ],
 "metadata": {
  "kernelspec": {
   "display_name": "Python 3 (ipykernel)",
   "language": "python",
   "name": "python3"
  },
  "language_info": {
   "codemirror_mode": {
    "name": "ipython",
    "version": 3
   },
   "file_extension": ".py",
   "mimetype": "text/x-python",
   "name": "python",
   "nbconvert_exporter": "python",
   "pygments_lexer": "ipython3",
   "version": "3.10.12"
  },
  "varInspector": {
   "cols": {
    "lenName": 16,
    "lenType": 16,
    "lenVar": 40
   },
   "kernels_config": {
    "python": {
     "delete_cmd_postfix": "",
     "delete_cmd_prefix": "del ",
     "library": "var_list.py",
     "varRefreshCmd": "print(var_dic_list())"
    },
    "r": {
     "delete_cmd_postfix": ") ",
     "delete_cmd_prefix": "rm(",
     "library": "var_list.r",
     "varRefreshCmd": "cat(var_dic_list()) "
    }
   },
   "types_to_exclude": [
    "module",
    "function",
    "builtin_function_or_method",
    "instance",
    "_Feature"
   ],
   "window_display": false
  }
 },
 "nbformat": 4,
 "nbformat_minor": 5
}
